{
  "cells": [
    {
      "cell_type": "raw",
      "metadata": {},
      "source": [
        "---\n",
        "title: ggplot2笔记\n",
        "editor:\n",
        "  markdown:\n",
        "    wrap: 72\n",
        "---"
      ],
      "id": "317610a7"
    },
    {
      "cell_type": "markdown",
      "metadata": {},
      "source": [
        "# 基础知识\n",
        "\n",
        "ggplot2语法可以划分成以下几个部分：\n",
        "\n",
        "- 数据集（data）：这部分包括了数据集的清洗整理，不再赘述。\n",
        "- 图像属性（aes）\n",
        "- 映射（mapping）：各种图像属性的空间映射。\n",
        "- 几何对象（geom）：决定了图形的类型\n",
        "- 标度（scale）：对数据信息进行重新汇总计算。\n",
        "- 统计变换（stats）\n",
        "- 位置变换（position）\n",
        "- 坐标系（coord）\n",
        "- 分面（facet）\n",
        "- 主题（theme）：对图形精雕细琢。\n",
        "\n",
        "## 图层\n",
        "\n",
        "ggplot2通过添加图层的方法来绘制想要的结果，每一个图层需要组合相应的几何对象。图层之间用`+`连接。同时越往后，其图层越在上方。\n",
        "\n",
        "## 绘图步骤（图层叠加策略）\n",
        "\n",
        "1. 创建ggplot2对象\n",
        "\n",
        "通过`ggplot()`函数创建，这是最底层的函数。该函数有两个主要参数，`data`和`mapping`，这两个参数将被设置为全局的默认参数。只有在新添加图层里重新显示声明，才会被改变。\n",
        "\n",
        "ggplot2对象在加上图层前没有任何几何图形，只是空白的坐标轴面板。\n",
        "\n",
        "2. 添加图层\n",
        "\n",
        "使用`geom_xx()`函数添加几何对象图层，函数的参数定义了各种组件：\n",
        "- mapping：映射。\n",
        "- data：重新声明数据集\n",
        "- `...`：几何对象中特有的其他参数，包括一些美学属性或其他设置。\n",
        "- stat：统计变换。\n",
        "- position：位置调整。\n",
        "\n",
        "3. 调整标度\n",
        "\n",
        "每个图形属性的映射（例如颜色，大小等）都对应一个标度。\n",
        "\n",
        "4. 指定坐标系统\n",
        "\n",
        "默认是笛卡尔坐标系，可以更换坐标轴。同时也可以对某一个坐标轴的细节进行修改。\n",
        "\n",
        "5. 设定分面系统。\n",
        "\n",
        "将某个变量进行分面变换，包括按行、列和网格等形式分面绘图.\n",
        "\n",
        "6. 调整图例\n",
        "\n",
        "通过`guides()`函数调整图例，主要包括连续型和离散型两种类型的图例。\n",
        "\n",
        "7. 设定主题\n",
        "   \n",
        "上述并非固定步骤，还需结合实际情况调整。\n",
        "\n",
        "## 图形属性（美学属性）\n",
        "\n",
        "每一个图形属性都可以映射为一个变量（离散变量或连续变量）或者单独设定成一个常数。图形属性不进行显式声明则使用默认值。\n",
        "\n",
        "美学属性单独赋值和映射的区别（以颜色为例：）\n"
      ],
      "id": "99973e4f"
    },
    {
      "cell_type": "code",
      "metadata": {
        "vscode": {
          "languageId": "r"
        }
      },
      "source": [
        "library(tidyverse)\n",
        "library(patchwork)\n",
        "p1 <- mpg %>% ggplot(aes(displ, hwy)) + geom_point(size = 3, aes(colour=\"red\"))  \n",
        "p2 <- mpg %>% ggplot(aes(displ, hwy)) + geom_point(size = 3, colour=\"red\") \n",
        "p1 + p2"
      ],
      "id": "1a686f5b",
      "execution_count": null,
      "outputs": []
    },
    {
      "cell_type": "markdown",
      "metadata": {},
      "source": [
        "### 常用图形属性类型\n",
        "\n",
        "不同的几何对象有不同的图形属性，常见的有：\n",
        "1. color（colour）：线条颜色\n",
        "2. size\n",
        "3. shape\n",
        "4. fill：填充颜色\n",
        "5. group：分组\n",
        "6. x，y：坐标位置\n",
        "\n",
        "## 几何对象\n",
        "\n",
        "几何对象执行图层的渲染，控制生成图像的类型。\n",
        "\n",
        "### 几何对象类型\n",
        "\n",
        "几何对象可以包括以下几种：\n",
        "\n",
        "![](note_img/几何对象类型.png)\n",
        "\n",
        "### 几何对象图形属性值和统计变换\n",
        "\n",
        "每个几何对象都有一组他能识别的图形属性和一组绘图所需要的值（例如，一个点含有颜色、大小和形状等图形属性，以及x和y位置坐标；一个条形含有高度、条宽、边界颜色和填充颜色等颜色属性值）。有些几何对象的图形属性略有不同，例如tile瓦片图形需要指定上下左右位置（ymin、ymax、xmin、xmax）。\n",
        "\n",
        "同时，每一个几何对象都有一个默认的统计变换，对应地，每一个统计变换也都有一个默认的几何对象。例如封箱（bin）统计变换默认使用条形几何对象（bar）。修改这些默认值虽然能生成符合语法地绘图，但是它们可能会违法一些绘图惯例。\n",
        "\n",
        "![](note_img/几何对象详解.png)\n",
        "\n",
        "### 分组\n",
        "\n",
        "一般几何对象可以分为个体几何对象和群组几何对象两类。个体几何对象对数据框的每一条数据绘制一个以区别于其他个体的图形对象，例如散点。群组几何对象用来表示多条观测。它们可以是某个统计摘要的一个结果，或者是几何对象的基础展示，例如多边形。\n",
        "\n",
        "线条和路径这种几何对象介于这两者之间：每条线都由许多线段组成，而每条线段又代表两个点。此时需要映射分组group图形属性来解决这种冲突。因为在ggplot2中，group属性用于指定数据点的分组方式。它在绘制具有多个组的数据时非常有用，尤其是在绘制线图（line plot）或区域图（area plot）时。\n"
      ],
      "id": "7dc28fe0"
    },
    {
      "cell_type": "code",
      "metadata": {
        "vscode": {
          "languageId": "r"
        }
      },
      "source": [
        "# 一下是一段代码示例\n",
        "library(ggplot2)\n",
        "library(nlme) # 调用nlme包的Oxboys数据集\n",
        "Oxboys # 数据集的age列存在相同的数据"
      ],
      "id": "58800621",
      "execution_count": null,
      "outputs": []
    },
    {
      "cell_type": "code",
      "metadata": {
        "vscode": {
          "languageId": "r"
        }
      },
      "source": [
        "# 如果不指定分组图形属性， 那么绘制出来的线只是点的单纯连接，没有实际意义\n",
        "ggplot(Oxboys, aes(age, height)) + geom_line(linewidth = 1) "
      ],
      "id": "1f95e447",
      "execution_count": null,
      "outputs": []
    },
    {
      "cell_type": "code",
      "metadata": {
        "vscode": {
          "languageId": "r"
        }
      },
      "source": [
        "ggplot(Oxboys, aes(age, height, group = Subject)) + geom_line(linewidth = 1) "
      ],
      "id": "df52399b",
      "execution_count": null,
      "outputs": []
    },
    {
      "cell_type": "markdown",
      "metadata": {},
      "source": [
        "有时需要设置 group = 1来连接相应的散点绘制折线图\n"
      ],
      "id": "d4f6a174"
    },
    {
      "cell_type": "code",
      "metadata": {
        "vscode": {
          "languageId": "r"
        }
      },
      "source": [
        "library(ggplot2)\n",
        "library(xlsx)\n",
        "data <- xlsx::read.xlsx(\"笔记数据素材/基尼系数贡献率.xlsx\", sheetIndex = 1, header = TRUE)\n",
        "head(data)\n",
        "ggplot(data, aes(x = category)) +\n",
        "    geom_line(aes(y = as.factor(Gw), color = \"Gw\"), linewidth = 2)"
      ],
      "id": "0a75a8b2",
      "execution_count": null,
      "outputs": []
    },
    {
      "cell_type": "code",
      "metadata": {
        "vscode": {
          "languageId": "r"
        }
      },
      "source": [
        "ggplot(data, aes(x = category)) +\n",
        "    geom_line(aes(y = as.factor(Gw), group = 1, color = \"Gw\"), linewidth = 2)"
      ],
      "id": "a255e377",
      "execution_count": null,
      "outputs": []
    },
    {
      "cell_type": "markdown",
      "metadata": {},
      "source": [
        "## 统计变换\n",
        "\n",
        "对数据进行统计变换，即通常以某种方式对数据信息进行汇总。例如，平滑（smoother）是一个很有用的统计变换，它能在一些限制条件的约束下给定x值时y的平均值。\n",
        "\n",
        "统计（stat）变换函数在数据被绘制出来之前对数据进行聚合和其他计算。它将输入的数据集看做输入，将返回的数据集作为输出，因此此统计变换可以向原数据集中插入新的变量，通过查看统计变换的帮助文档找到计算的变量名。例如，常被用来绘制直方图的`bin`统计变换会生成如下常见变量（`?ggplot2::stat_bin()`）：count---每个组里观测值的数目；density---个组里观测值的密度（占整体的百分数、组宽）。这些生成的变量可以被直接调用，通过`after_stat()`函数指定即可：\n"
      ],
      "id": "9b6d3d8b"
    },
    {
      "cell_type": "code",
      "metadata": {},
      "source": [
        "# geom_histogram(\n",
        "#   mapping = NULL,\n",
        "#   data = NULL,\n",
        "#   stat = \"bin\",\n",
        "#   position = \"stack\",\n",
        "#   ...,\n",
        "#   binwidth = NULL,\n",
        "#   bins = NULL,\n",
        "#   na.rm = FALSE,\n",
        "#   orientation = NA,\n",
        "#   show.legend = NA,\n",
        "#   inherit.aes = TRUE\n",
        "# )\n",
        "\n",
        "library(tidyverse)\n",
        "mpg %>% \n",
        "  ggplot(aes(x = cty)) +\n",
        "  geom_histogram(aes(y = after_stat(density)), fill = \"steelblue\") +    # 默认为 count\n",
        "  theme_minimal()"
      ],
      "id": "201454fe",
      "execution_count": null,
      "outputs": []
    },
    {
      "cell_type": "markdown",
      "metadata": {},
      "source": [
        "如果不想使用统计变换，设置参数`stat = \"identity\"`即可。不使用统计变换（identity）的意思是，绘制的图形所需数据完全来自输入（y，ymin，ymax），或者来自统计摘要`stat_summary()`。\n",
        "\n",
        "常见的统计变换函数如下图：\n",
        "![](note_img/统计变换.png)\n",
        "\n",
        "### 深入统计变换\n",
        "\n",
        "之前我们都是使用`geom_xx()`添加图层，同时使用函数里面的`stat`参数进行统计变换。其实我们也可以直接使用`stat_xx()`函数进行图层的创建，同时使用其中的`geom`参数创建几何对象（这些几何对象一定是没有统计变换的基本对象）。前者更侧重图表类型的绘制，通过修改统计变换参数实现绘图前数据的统计变换；后者更侧重统计变换过程，所以可以直接根据统计变换结果绘制不同的图表。但需要注意的是，统计变换的结果一定要与将要绘制的几何对象图形属性相匹配。\n",
        "\n",
        "具体来说，其实无论是什么样的几何对象，基本上都使用条线点组合而成。以箱线图的绘制为例，geom_boxplot() 是一个统一的函数，封装了计算和绘制的步骤，使用户能够更方便地绘制盒须图。stat_boxplot() 负责计算出盒须图需要的五个数值：最小值、第一四分位数、中位数、第三四分位数和最大值。这些计算出的数值随后被 geom_boxplot() 所调用，以绘制出标准的盒须图，包括盒子、须线以及可能的异常值。\n",
        "\n",
        "#### 统计摘要（stat_summary()）\n",
        "\n",
        "对于每个x的取值，计算**对应y的统计摘要**通常是有用的。`stat_summary()`使用ymin，y和ymax等图形属性，为**汇总y的条件分布**提供了一种灵活的方式。该统计摘要默认几何对象为`pointrange`，即：用一条中间带点的竖直线代表一个区间。\n",
        "\n",
        "函数及其参数如下：\n"
      ],
      "id": "23efda02"
    },
    {
      "cell_type": "code",
      "metadata": {},
      "source": [
        "# stat_summary(\n",
        "#   mapping = NULL,\n",
        "#   data = NULL,\n",
        "#   geom = \"pointrange\",\n",
        "#   position = \"identity\",\n",
        "#   ...,\n",
        "#   fun.data = NULL,\n",
        "#   fun = NULL,\n",
        "#   fun.max = NULL,\n",
        "#   fun.min = NULL,\n",
        "#   fun.args = list(),\n",
        "#   na.rm = FALSE,\n",
        "#   orientation = NA,\n",
        "#   show.legend = NA,\n",
        "#   inherit.aes = TRUE,\n",
        "#   fun.y = deprecated(),\n",
        "#   fun.ymin = deprecated(),\n",
        "#   fun.ymax = deprecated()\n",
        "# )"
      ],
      "id": "0b1e8ff7",
      "execution_count": null,
      "outputs": []
    },
    {
      "cell_type": "code",
      "metadata": {},
      "source": [
        "library(tidyverse)\n",
        "ggplot(mtcars, aes(cyl, mpg)) +\n",
        "  stat_summary(fun = mean, fun.min = min, fun.max = max, geom = \"pointrange\") +\n",
        "  # pointrange几何对象显然需要中间点以及竖线范围的两个极点的数值\n",
        "  theme_minimal()"
      ],
      "id": "b343b0e9",
      "execution_count": null,
      "outputs": []
    },
    {
      "cell_type": "markdown",
      "metadata": {},
      "source": [
        "##### 单独的摘要计算函数\n",
        "\n",
        "`fun`、`fun.min`、`fun.max`参数能够接受简单的数值型摘要计算函数，即该函数能够传入一个数值向量（x）并返回一个数值型结果（根据x分组的的统计摘要值），如mean()、median()、min()、max()函数等。其中`fun`参数更广泛，`fun.min`和`fun.max`则更关注最值的统计，一般与`geom = \"errorbar\"`配合使用。\n"
      ],
      "id": "02b314f1"
    },
    {
      "cell_type": "code",
      "metadata": {},
      "source": [
        "library(tidyverse)\n",
        "ggplot(mtcars, aes(cyl, mpg)) +\n",
        "  geom_point() +\n",
        "  stat_summary(mapping = aes(color = \"mean\"), fun = mean , size = 4, geom = \"point\") +\n",
        "  stat_summary(mapping = aes(color = \"median\"), fun = median, size = 4, geom = \"point\") +\n",
        "  scale_color_manual(values = c(\"mean\" = \"red\", \"median\" = \"blue\")) +\n",
        "  theme_minimal()"
      ],
      "id": "dc76166e",
      "execution_count": null,
      "outputs": []
    },
    {
      "cell_type": "code",
      "metadata": {},
      "source": [
        "library(tidyverse)\n",
        "ggplot(mtcars, aes(cyl, mpg)) +\n",
        "  geom_point() +\n",
        "  stat_summary(fun.min = min, fun.max = max, geom = \"errorbar\") +\n",
        "  theme_minimal()"
      ],
      "id": "4098921c",
      "execution_count": null,
      "outputs": []
    },
    {
      "cell_type": "markdown",
      "metadata": {},
      "source": [
        "##### 统一的摘要计算函数\n",
        "\n",
        "`fun.data`参数可以支持更复杂的摘要计算函数，它可以是来自`Hmisc`包中的函数，也可以是自己编写的摘要计算函数。此函数对于每个 x 值进行统计摘要的分组计算，且应返回一个包含至少三个变量的数据框：ymin、y 和 ymax。\n",
        "\n",
        "对于自编函数：\n"
      ],
      "id": "2835c4cf"
    },
    {
      "cell_type": "code",
      "metadata": {},
      "source": [
        "library(tidyverse)\n",
        "iqr <- function(x, ...) {\n",
        "  qs <- quantile(x, probs = c(0.25, 0.75), na.rm = TRUE)\n",
        "  names(qs) <- c(\"ymin\", \"ymax\")\n",
        "  return(qs)\n",
        "}\n",
        "ggplot(mtcars, aes(cyl, mpg)) +\n",
        "  stat_summary(fun.data = iqr, fill = \"#007c7c\", geom = \"ribbon\", alpha = .7) +\n",
        "  theme_minimal()"
      ],
      "id": "b7819632",
      "execution_count": null,
      "outputs": []
    },
    {
      "cell_type": "markdown",
      "metadata": {},
      "source": [
        "对于Hmisc包里面的函数调用，可以参考下图：\n",
        "\n",
        "![](note_img/Hmisc.png)\n"
      ],
      "id": "9ae45af2"
    },
    {
      "cell_type": "code",
      "metadata": {},
      "source": [
        "library(tidyverse)\n",
        "ggplot(mtcars, aes(cyl, mpg)) +\n",
        "  stat_summary(fun.data = mean_cl_boot, color = \"#007c7c\", geom = \"errorbar\") +\n",
        "  theme_minimal()"
      ],
      "id": "efba68a0",
      "execution_count": null,
      "outputs": []
    },
    {
      "cell_type": "markdown",
      "metadata": {},
      "source": [
        "#### 封箱统计变换函数（stat_bin()）\n",
        "\n",
        "封箱统计函数的默认几何对象为`bar`，其参数如下：\n"
      ],
      "id": "0c6446b3"
    },
    {
      "cell_type": "code",
      "metadata": {},
      "source": [
        "# stat_bin(\n",
        "#   mapping = NULL,\n",
        "#   data = NULL,\n",
        "#   geom = \"bar\",\n",
        "#   position = \"stack\",\n",
        "#   ...,\n",
        "#   binwidth = NULL,\n",
        "#   bins = NULL,\n",
        "#   center = NULL,\n",
        "#   boundary = NULL,\n",
        "#   breaks = NULL,\n",
        "#   closed = c(\"right\", \"left\"),\n",
        "#   pad = FALSE,\n",
        "#   na.rm = FALSE,\n",
        "#   orientation = NA,\n",
        "#   show.legend = NA,\n",
        "#   inherit.aes = TRUE\n",
        "# )"
      ],
      "id": "71a634b3",
      "execution_count": null,
      "outputs": []
    },
    {
      "cell_type": "markdown",
      "metadata": {},
      "source": [
        "#### 其余统计变换函数与自建统计变换函数\n",
        "\n",
        "\n",
        "#### 结合几何对象和统计变换\n",
        "\n",
        "将几何对象和不同的统计变换进行组合，可以轻松地绘制出新颖的图形，这在之前的代码中已经有所体现。类似地，ggplot2中有大量的几何对象就是基于其他几何对象衍生出来的（通过修改某个已存在的几何对象地默认图形属性或统计变换）：\n",
        "\n",
        "![](note_img/combined-goems.png)\n",
        "\n",
        "#### 结合统计变换与标度变换\n",
        "\n",
        "虽然统计变换和标度变换是独立的两个步骤，但标度变换要先于统计变换，因此统计量都是基于标度变换后的数据进行计算的。例如：\n"
      ],
      "id": "7b513652"
    },
    {
      "cell_type": "code",
      "metadata": {},
      "source": [
        "library(tidyverse)\n",
        "library(patchwork)\n",
        "p1 <- ggplot(diamonds, aes(x = carat)) +\n",
        "  scale_x_continuous(limits = c(0, 3)) +\n",
        "  stat_bin(aes(y = after_stat(density)), binwidth = .1, geom = \"point\") +\n",
        "  theme_minimal()\n",
        "\n",
        "p2 <- ggplot(diamonds, aes(x = carat)) +\n",
        "  stat_bin(aes(y = after_stat(density)), binwidth = .1, geom = \"point\", color = \"red\") +\n",
        "  scale_x_continuous(limits = c(0, 3)) +\n",
        "  theme_minimal()\n",
        "\n",
        "p1 / p2\n",
        "# 统计变换永远基于标度变换，无论图层添加的顺序如何"
      ],
      "id": "21d73248",
      "execution_count": null,
      "outputs": []
    },
    {
      "cell_type": "markdown",
      "metadata": {},
      "source": [
        "## 位置调整\n",
        "\n",
        "> 位置调整即是对该层的元素位置进行微调。一般用于处理离散型数据，这是要因为连续型数据很少出现完全重叠的问题\n",
        "\n",
        "![](笔记图片素材\\位置调整参数.png)\n"
      ],
      "id": "b698b153"
    },
    {
      "cell_type": "code",
      "metadata": {
        "vscode": {
          "languageId": "r"
        }
      },
      "source": [
        "# 以下是一段代码示例\n",
        "library(ggplot2)\n",
        "\n",
        "p1 <- ggplot(diamonds, aes(x = color, fill = cut)) +\n",
        "        geom_bar(position = \"dodge\") +\n",
        "        labs(title = \"并列\")\n",
        "p1\n",
        "\n",
        "p2 <- ggplot(diamonds, aes(x = color, fill = cut)) +\n",
        "        geom_bar(position = \"stack\") +\n",
        "        labs(title = \"堆叠\")\n",
        "p2\n",
        "\n",
        "p3 <- ggplot(diamonds, aes(x = color, fill = cut)) +\n",
        "        geom_bar(position = \"fill\") +\n",
        "        labs(title = \"堆叠并将高度标准化\")\n",
        "p3"
      ],
      "id": "2cfc875e",
      "execution_count": null,
      "outputs": []
    },
    {
      "cell_type": "markdown",
      "metadata": {},
      "source": [
        "## 标度\n",
        "\n",
        "标度（scale）控制着数据到图形属性的映射。标度将我们的数据转换为视觉上可以感知的东西：例如大小，颜色，位置或形状。标度也为我们提供了读图时所使用的工具：坐标轴和图例。这些被称作引导元素（guide），对于位置型图形属性，引导元素是坐标轴；而对于所有其他图形属性来说，引导元素是图例。\n",
        "\n",
        "图形上所用的每一个图形属性都需要一个标度，也都对应着一个标度，每个标度都作用于图形中的所有数据。更准确地说，每一种标度都是从数据空间的某个区域（标度的定义域）到图形属性空间的某个区域（标度的值域）的一个函数。每种标度的定义域都对应着提供给这个标度的变量的取值范围，它可以是连续型、离散型（有序或无序）。而标度的值域则包含了我们可以感知的，R能够理解的、实实在在的图形属性：位置、颜色、形状、大小和线条类型。\n",
        "\n",
        "### 标度的工作原理\n",
        "\n",
        "标度的工作原理，其实就是标度的定义域和值域之间进行映射的过程。标度的定义域可能是连续型（实值区间），也可能是离散型（某些值组成的集合），同时值域也可以是连续型（穿过某种更复杂空间的一条一维路径）或离散型（输入值对应的图形属性值组成的一个向量）的。\n",
        "\n",
        "没有标度就没有将数据转换为图形属性的途径，所以图形中使用的每一个图形属性都需要一个标度。执行标度的过程有三步： \n",
        "\n",
        "#### 变换(transformation)\n",
        "\n",
        "变换**仅针对连续型的定义域**。例如对数据取对数或者开根号。在变换完成后，将会基于变换后的数据计算每一层的**统计摘要**，然后再进行展示。\n",
        "\n",
        "#### 训练(training)\n",
        "\n",
        "在这个关键的阶段，将通过学习（learing）得到标度的定义域。有时，学习某个标度的定义相当简单直接：在一个仅有一个图层且仅呈现原始数据的图形中，这个学习过程包括确定某个（变换后的）连续型变量的最小值和最大值，或者是列出某个类别型变量的所有水平。但是，标度大多定义域往往必须在多个面板（panel）中反映出横跨多个数据集的多个图层。\n",
        "\n",
        "#### 映射(mapping)\n",
        "\n",
        "在知道标度的定义域和值域后，将执行这个映射数据到图形属性的函数。同时标度也支持缺失值的映射，通过`na.value`参数，我们也可以将缺失值映射到特定的图形属性。\n",
        "\n",
        "### 标度的用法\n",
        "\n",
        "每一种图形属性都拥有一个默认的标度，此标度将**在我们每次使用这个图形属性时被自动添加到图形中**。标度的种类依赖于变量的类型：分为连续型（变量为数值时）或离散型（变量为因子、逻辑值、字符时）。\n",
        "在初始化整个图形和增加新图层时、默认的标度将自动增加。这意味着如果我们在之后修改了底层数据或图形属性映射，变量类型和标度类型之间可能出现不匹配的情况。当这种情况发生时，我们需要自行添加正确的标度。不过新版本的ggplot2可以自动完成变换。不过了解一下底层原理总是好的。\n",
        "\n",
        "![](note_img/scale_type.png)\n",
        "\n",
        "如果要添加一个不同的标度或修改默认标度的某些特征，我们必须构造一个新的标度，然后使用`+`将其添加到图形上。通过通用命名方案：`scale_`开头，加上图形属性名称（color，size等），最后以标度名称结尾（discrete，continuous等）。\n",
        "\n",
        "### 标度的通用参数\n",
        "\n",
        "以下参数对所有标度通用：\n",
        "\n",
        "1. `name`：设置坐标轴或图例上出现的标签。该参数可以直接通过`labs()`简写函数。\n"
      ],
      "id": "3be6ca74"
    },
    {
      "cell_type": "code",
      "metadata": {},
      "source": [
        "# labs(\n",
        "#   ...,\n",
        "#   title = waiver(),\n",
        "#   subtitle = waiver(),\n",
        "#   caption = waiver(),\n",
        "#   tag = waiver(),\n",
        "#   alt = waiver(),\n",
        "#   alt_insight = waiver()\n",
        "# )  \n",
        "\n",
        "# title:标题标签\n",
        "# subtitle:子标题标签\n",
        "# tag：标签默认在图的左上角\n",
        "# caption：标签默认在图的右下角"
      ],
      "id": "eced2715",
      "execution_count": null,
      "outputs": []
    },
    {
      "cell_type": "markdown",
      "metadata": {},
      "source": [
        "2. `limits`：固定标度的定义域。连续型标度接受一个**长度为2的数值型向量**；离散型标度接受一个**字符型向量**。一旦接受了limits，数据将不再进行任何训练，即任何不在此limits规定的定义域内的值均将被丢弃。这个丢弃过程是在统计量计算之前的，这点值得注意。\n",
        "\n",
        "3. `breaks`和`labels`：breaks 控制着**显示在坐标轴或图例上的值**，即坐标轴上应该显示哪些刻度线的值，或连续型标度在一个图例中将被如何分段。而labels则指定了断点处显示的标签。设置了labels就必须指定breaks，只有这样才能保证这两个参数的正确匹配。当然也可以只设置breaks而不设置labels。\n",
        "\n",
        "### 位置标度\n",
        "\n",
        "每幅图形一定拥有两个位置标度，一个指定水平位置（x标度），另外一个指定竖直位置（y标度）。由于经常需要微调数据的定义域范围．所以也会使用辅助函数`xlim()`,`ylim()`。值得注意的是，默认情况下，位置标度的`limits`会对变量的定义域进行一定程度的扩展，这样就保证了数据与坐标轴不会发生重叠。使用`expand = expansion()`来控制溢出量，`expansion()`函数第一个参数给出的是乘式的溢出量，第二个参数给出的是加式的溢出量。\n",
        "\n",
        "#### 连续型\n",
        "\n",
        "最常用的连续型位置标度是`scale_x_continuous()`和`scale_y_continuous()`。它们都将数据映射到x轴和y轴，而最有趣的变式是通过变换来形成的。每个连续型标度均可接受一个`trans`参数，允许指定若干种线性或非线性的变换。而每一种变换都是由所谓的“变换器”（transformer）来实现的，变换器描述了变换本身和对应的逆变换，以及如何去绘制标签。\n",
        "\n",
        "![](note_img/标度转换器.png)\n",
        "\n",
        "变换通常被用来修改位置标度，所以对于x,y标度都是有简便写法的：scale_x_log1O()scale_x_continuous(trans=\n",
        "\"logl0\")是等价的。参数trans对任意的连续型标度均有效，包括后面的颜色梯度，但简便写法仅针对位过标度存在。变换器同样也可以使用在coord_trans()中，此时变换将在统计量计算完成后进行，因而会影响图形主体的外观。\n"
      ],
      "id": "4f90a085"
    },
    {
      "cell_type": "code",
      "metadata": {
        "vscode": {
          "languageId": "r"
        }
      },
      "source": [
        "library(ggplot2)\n",
        "p1 <- ggplot(diamonds, aes(x = log10(carat), y = log10(price))) + geom_point()\n",
        "p1\n",
        "\n",
        "p2 <- ggplot(diamonds,aes(x = carat, y = price)) + geom_point() + scale_x_log10() + scale_y_log10()\n",
        "p2\n",
        "\n",
        "p3 <- ggplot(diamonds,aes(x = carat, y = price)) + geom_point()\n",
        "p3\n",
        "\n",
        "# 三张图存在差异，其中一二张图虽然相同，但坐标轴的刻度却是不同的。第一种做法改变了原数据空间，因而坐标轴的刻度也发生了变换。而第二种做法虽然也对数据进行了转换，但坐标轴的刻度仍采用原数据的。"
      ],
      "id": "f916f4dd",
      "execution_count": null,
      "outputs": []
    },
    {
      "cell_type": "markdown",
      "metadata": {},
      "source": [
        "#### 日期和时间型\n",
        "\n",
        "我们常常在绘制时间序列图时，用到日期和时间。日期和时间值基本上属于连续型，但在标注坐标轴时有特殊的处理方式。如果日期和时间值是其他格式的，则需使用as.Date()或as.POSIXct()对其进行转换。\n",
        "\n",
        "对于日期坐标轴，此标度`scale_x_date()`,\n",
        "`scale_y_date()`本身已经可以很好地选择默认值了，不过也可以进行微调，一般用到几个参数控制其外观和刻度的位置： -\n",
        "`name`: 坐标轴名称 - `date_breaks`: x轴上的日期刻度 - `date_labels`:\n",
        "日期标签格式 - `limits`: 坐标轴日期范围 - `expand`: 坐标轴轴刻度扩展因子\n",
        "\n",
        "其中有些已经在前面讲过，不再赘述。以下是一些参数讲解：\n",
        "\n",
        "`date_breaks`参数常见设置形式：\n",
        "\n",
        "`date_breaks = \"width\"`：根据时间间隔来设置日期刻度，即每个刻度之间的时间间隔为固定宽度。\n",
        "\n",
        "``` r\n",
        "scale_x_date(date_breaks = \"1 day\")\n",
        "# 表示每天显示一个日期刻度。\n",
        "\n",
        "scale_x_date(date_breaks = \"2 years\")\n",
        "# 表示每两年显示一个日期刻度。\n",
        "```\n",
        "\n",
        "`date_labels`参数常见设置形式：\n",
        "\n",
        "1.  date_labels = \"\"：使用给定的日期格式字符串显示日期标签\n",
        "\n",
        "``` r\n",
        "scale_x_date(date_labels = \"%Y-%m-%d\")\n",
        "# 表示显示日期格式为\"年-月-日\"。\n",
        "\n",
        "scale_x_date(date_labels = \"%Y/%m/%d\")\n",
        "# 表示显示日期格式为\"年/月/日\"。\n",
        "```\n",
        "\n",
        "![](笔记图片素材\\日期标签格式.png)\n"
      ],
      "id": "d09b2188"
    },
    {
      "cell_type": "code",
      "metadata": {
        "vscode": {
          "languageId": "r"
        }
      },
      "source": [
        "# 以下是一段代码示例\n",
        "library(ggplot2)\n",
        "\n",
        "# 创建一个时间序列数据集\n",
        "data <- data.frame(\n",
        "    time = seq(as.Date(\"2020-01-01\"), as.Date(\"2020-12-31\"), by = \"1 day\"), # 用seq创建时间序列\n",
        "    value = rnorm(366)\n",
        ")\n",
        "head(data)"
      ],
      "id": "282d9bbd",
      "execution_count": null,
      "outputs": []
    },
    {
      "cell_type": "code",
      "metadata": {
        "vscode": {
          "languageId": "r"
        }
      },
      "source": [
        "# 绘制折线图\n",
        "ggplot(data, aes(x = time, y = value)) +\n",
        "    geom_line() +\n",
        "    scale_x_date(\n",
        "        limits = c(as.Date(\"2020-02-01\"), as.Date(\"2020-11-30\")),\n",
        "        date_breaks = (\"1 month\"),\n",
        "        date_labels = \"%b\",\n",
        "        expand = c(0.02, 0)\n",
        "    ) +\n",
        "    labs(title = \"2020年每日数据趋势\", x = \"日期\", y = \"数值\")"
      ],
      "id": "a4f67a19",
      "execution_count": null,
      "outputs": []
    },
    {
      "cell_type": "markdown",
      "metadata": {},
      "source": [
        "#### 离散型\n",
        "\n",
        "离散型位置标度`scale_x_discrete()`,\n",
        "`scale_y_discrete()`将输入中的各水平映射为整数。结果的顺序可用参数breaks进行控制，不想要的水平可以使用limits(或使用xlim()或ylim())进行丢弃。\n",
        "\n",
        "有时候将离散型变量映射到位置标度时顺序会发生变化，解决方案如下:\n",
        "\n",
        "``` r\n",
        "scale_x_discrete(limits = unique()) # unique括号里面添加列名\n",
        "```\n",
        "\n",
        "### 颜色标度\n",
        "\n",
        "#### 连续型\n",
        "\n",
        "常见的连续型颜色标度\n",
        "\n",
        "``` r\n",
        "scale_colour_gradient()和scale_fill_gradient() \n",
        "#双色梯度。顺序为从低到高。参数low和high用以控制此梯度两端的颜色。\n",
        "\n",
        "scale_colour_gradient2()和scale_fill_gradient2 ()\n",
        "#三色梯度。顺序为低一中一高。参数low和high作用同上，这两种标度还在中点处拥有一个中间色。中点的默认值为0，也可以使用参数midpoint将其设置为任意值。\n",
        "\n",
        "scale_colour_gradientn()和scale_fill_gradientn()\n",
        "#自定义的n色梯度。此标度需要赋给参数colours一个颜色向量。不加其他参数的话，这些颜色将依照数据的范围均匀地分布。\n",
        "```\n",
        "\n",
        "#### 离散型\n",
        "\n",
        "离散型数据有两种颜色标度。一种可以自动选择颜色，另一种可以轻松地从手工甄选的颜色集中选择颜色。默认的配色方案，即scale_colour_hue(),可通过沿若hcl色轮选取均匀分布的色相来生成颜色。这种方案对多至约8种颜色时都能有较好的效果。但对于更多的颜色，要区分开不同的颜色就变得比较困难了。默认配色的另外一个缺点是，由于所有颜色都拥有相同的明度和彩度，所以当我们进行黑白打印时，它们就会成为几近相同的灰影。除了这种基于计算的方案以外，另一种可选的方案是使用ColorBrewer配色，这些手工甄选的颜色可在很多情境下良好地运作(如绘制地图)，这些颜色也因此在展示较大的面积时表现更佳。\n",
        "\n",
        "对于类别型数据中的点而言，常用的调色板是\"Set1\"和\"Dack2\",对面积而言则是\"Set2\"、\"Pastel1\"、\"Pastel2\"和\"Accent\"。\n",
        "\n",
        "``` r\n",
        "scale_color_brewer(palette = 'Set2')\n",
        "```\n",
        "\n",
        "##### 手动离散型标度\n",
        "\n",
        "使用`scale_colour_manual()`这个手动型标度创建新的标度。手动型标度拥有一个重要参数values。可以使用它来指定这个标度应该生成的值。如果这个向量中的元素是有名称的，则它将自动匹配输入和输出的值，否则它将按照离散型变量中水平的先后次序进行匹配。\n",
        "\n",
        "``` r\n",
        "library(ggplot2)\n",
        "ggplot(msleep, aes(x = brainwt, y = bodywt))+\n",
        "         geom_point(aes(color = vore))+\n",
        "         scale_x_log10()+\n",
        "         scale_y_log10()+\n",
        "         scale_color_manual(values = c(carni = 'red', 'NA' = 'orange', insecti = 'yellow', herbi = 'green', omni = 'blue'))\n",
        "\n",
        "# 该向量中的元素是有名称的，于是自动匹配了输入和输出的值：carni将使用红色等等\n",
        "\n",
        "library(ggplot2)\n",
        "ggplot(msleep, aes(x = brainwt, y = bodywt))+\n",
        "         geom_point(aes(color = vore))+\n",
        "         scale_x_log10()+\n",
        "         scale_y_log10()+\n",
        "         scale_color_manual(values = c('red', 'orange', 'yellow', 'green', 'blue'))\n",
        "\n",
        "# 按照离散型变量中水平的先后次序进行匹配(此时也要保证该向量元素的数量与类别变量的数量相匹配)\n",
        "```\n",
        "\n",
        "## 添加额外元素\n",
        "\n",
        "添加额外的元数据(metadata)\n",
        "、上下文信息和注解等等。该图层往往是最后绘制的图层。\n",
        "\n",
        "### 添加图形注释\n",
        "\n",
        "1.  geom_text()：为图形添加文字叙述或者为点添加标签\n",
        "\n",
        "2.  geom_vline, geom_hline: 为图形添加辅助线\n",
        "\n",
        "参数详解： - `xintercept` 或 `yintercept`：用于指定参考线的位置\n",
        "\n",
        "-   `color`：用于指定参考线的颜色。\n",
        "\n",
        "-   `linetype`：用于指定参考线的线型，可以是\n",
        "    \"solid\"（实线）、\"dashed\"（虚线）、\"dotted\"（点线）、\"dotdash\"（点划线）或者其他\n",
        "    ggplot2 中预定义的线型。\n",
        "\n",
        "-   `linewidth`：用于指定参考线的粗细程度。\n",
        "\n",
        "-   `alpha`：用于指定参考线的透明度。\n",
        "\n",
        "3.  geom_abline：向图形添加任意斜率和截距的直线\n",
        "\n",
        "-   最主要的参数就是`intercept`和`slope`。`color`,\n",
        "    `linetype`和`linewidth`等参数不再详细展开。\n",
        "-   参数`slope`表示斜率。`intercept`表示截距，若指定为0，且`slope`未进行声明，则默认斜率为1\n",
        "\n",
        "5.  geom_rect:\n",
        "\n",
        "-   需要指定矩形的四个角的坐标，通过 `xmin`、`xma`x`、`ymin`和`ymax\\`\n",
        "    参数来指定。\n",
        "-   还可以使用 `fill` 参数来填充矩形的颜色，使用 `alpha`\n",
        "    参数来指定矩形的透明度，使用 `color`参数来指定矩形的边框颜色。\n",
        "\n",
        "6.  arrow()添加箭头\n",
        "\n",
        "geom_line, geom_path,\n",
        "geom_segment都可以使用arrow参数在线上放置箭头,用arrow()函数绘制箭头，它有如下参数：\n",
        "\n",
        "-   length: 箭头的长度，需要`unit(长度， 单位)`的格式。\n",
        "\n",
        "-   ends: 箭头的位置，可取值为 \"last\"（默认，箭头在线段终点处）或\n",
        "    \"first\"（箭头在线段起点处）。\n",
        "\n",
        "-   type: 箭头的类型，可取值为 \"open\"（默认，空心箭头）或\n",
        "    \"closed\"（实心箭头）。\n",
        "\n",
        "-   angle: 箭头的夹角，以度数为单位，默认为 30 度。\n",
        "\n",
        "*箭头的颜色和线的颜色保持一致*\n",
        "\n",
        "``` r\n",
        "geom_line(color = 'red', arrow = arrow(length = unit(0.1,'inches'),type = 'closed', ends = 'first'))\n",
        "```\n",
        "\n",
        "## 图例\n",
        "\n",
        "### 定义\n",
        "\n",
        "图例和坐标轴存在着天然的可比性。图例标题(legend title)和坐标轴标题(axis\n",
        "label)是等价的。图例标示(legend key)和刻度标签(tick\n",
        "label)皆由标度的断点(break)决定。要绘制图例，图形必须收集每一种图形属性(如颜色，大小，形状)的使用信息，一般就是收集颜色属性。该信息为何种数据以及为何种几何对象决定了图例的绘制。标度的断点用来确定图例标示的值。\n",
        "\n",
        "以收集颜色属性的数据信息为例，如果该数据为离散型的，那么断点就是所有离散数据的值。使用的对应的一系列几何对象则被用来确定如何绘制这些标示。\n",
        "\n",
        "![](笔记图片素材\\生成图例类型.png)\n",
        "\n",
        "如果该数据为连续型的，此时仍然按照断点来确定图例的值，只不过结果会是一个渐变的色条。断点可以自行设置。\n",
        "\n",
        "### 图例的调整------利用theme主题\n",
        "\n",
        "1.  图例的位置和对齐\n",
        "\n",
        "使用`theme(legend.position = )`设置。其值可为`right`, `left`, `top`,\n",
        "`bottom`,\n",
        "`none (不加图例)`。或者是一个表示位置的数值。这个数值型位置由`legend.justification`给定的相对边角位置表示（取0，1之间的值），它是一个长度为2的数值型向量：右上角为c(1，1)\n",
        ", 左下角为c(0, 0)。可以自行调整，如：\n",
        "\n",
        "``` r\n",
        "theme(legend.position = c(0.9, 0.9))\n",
        "```\n",
        "\n",
        "2.  图例标题\n",
        "\n",
        "``` r\n",
        "# 标题的命名，寻找映射的图形属性，一般是颜色属性，所以这样设置即可改变图例标题\n",
        "labs(color = \"\")\n",
        "labs(size = \"\")\n",
        "\n",
        "# 设置图例标题大小，一般设置为和坐标轴标题一样的大小\n",
        "theme(legend.title = element_text(size = 16))\n",
        "\n",
        "# 设置图例标题位置居中，一般不设置\n",
        "theme(legend.title.align = 0.5)\n",
        "```\n",
        "\n",
        "3.  图例标签\n",
        "\n",
        "``` r\n",
        "# 设置标签大小，可自行调整细节\n",
        "theme(legend.text = element_text(size = 12))\n",
        "\n",
        "# 调整图例标签的位置，设置为0.5即为居中\n",
        "theme(legend.text.align = 0.5)\n",
        "```\n",
        "\n",
        "4.  图例背景\n",
        "\n",
        "``` r\n",
        "# 设置图例背景为白底黑边，一般不设置\n",
        "theme(legend.background = element_rect(fill = \"white\", color = \"black\"))\n",
        "```\n",
        "\n",
        "5.  图例标示\n",
        "\n",
        "``` r\n",
        "# 设置图例标示的背景为白底\n",
        "theme(legend.key = element_rect(fill = \"white\"))\n",
        "\n",
        "# 设置图例标示的高度和宽度，可以变相改变整个图例区域的大小，等号后面为 unit（x，单位）的形式\n",
        "theme(legend.key.height = unit(1.5, \"mm\"))\n",
        "theme(legend.key.width = unit(1.2, \"cm\"))\n",
        "```\n",
        "\n",
        "#### 关于geom_text()的详解\n",
        "\n",
        "几个参数：\n",
        "\n",
        "1.  mapping：用于映射数据中的变量到文本标签中的不同图形属性，例如位置、颜色、大小等。(x,\n",
        "    y数据的映射可以采用默认在或者重新声明)\n",
        "\n",
        "2.  label：用于指定文本标签的文本内容。\n",
        "\n",
        "3.  hjust, vjust：用于控制文本标签相对于其位置的水平和垂直对齐方式。\n",
        "\n",
        "4.  size：用于指定文本标签的大小。\n",
        "\n",
        "5.  color：用于指定文本标签的颜色。\n",
        "\n",
        "6.  angle：用于指定文本标签的旋转角度。\n",
        "\n",
        "7.  fontface：用于指定文本标签的字体类型（例如粗体、斜体等）。\n",
        "\n",
        "``` r\n",
        "geom_text(aes(x = , y = , label = ), size = , color = , fontface = )\n",
        "# fontface 指的是字体样式，如\"plain\"、\"italic\"、\"bold\" 和 \"bold.italic\"\n",
        "```\n",
        "\n",
        "==此外，标签之间可能会出现重合==。此时可以使用`ggrepel`包的`geom_text_repel()`函数来解决问题\n",
        "\n",
        "该函数有很多参数，可以自行查阅，但基础的部分和geom_text()是类似的。里面的max.overlaps参数用于控制标签之间的最大重叠数，如果同一位置有超过这个最大值的标签发生了重叠，那么多余的标签将被省略。可以尝试增加\n",
        "max.overlaps\n",
        "参数的值，以允许更多的标签重叠。但是要注意，如果重叠的标签过多，可能会导致标签之间的可读性降低，因此应该在可读性和美观性之间做出权衡。\n",
        "\n",
        "## 保存\n",
        "\n",
        "对于ggplot2对象，可以用`ggsave()`函数保存，同时该函数有多个参数对保存设置进行调整。使用`?ggplot2::ggsave()`阅读使用文档。常用的参数：`filename`指定保存图片的名称地址；`plot`指定ggplot2对象，默认为`plot=last_plot()`；`dpi`指定保存的分辨率，特别是当使用了`showtext`包后，为保持字体大小不会缩放，指定`dpi=90`。\n"
      ],
      "id": "421c8260"
    },
    {
      "cell_type": "code",
      "metadata": {},
      "source": [
        "library(tidyverse)\n",
        "library(showtext)\n",
        "\n",
        "showtext_auto()\n",
        "font_path <- \"fonts/ChillDuanSans_Medium.otf\"\n",
        "font_add(\"hanchan\", font_path)\n",
        "\n",
        "mpg %>% \n",
        "  ggplot(aes(x = displ, y = cty)) +\n",
        "  geom_point(size = 3, color = \"#FA8072\") +\n",
        "  geom_smooth(method = lm, se = FALSE, color = \"#D8BFD8\", lwd = 1.5) +\n",
        "  theme_minimal() +\n",
        "  theme(\n",
        "    text = element_text(family = \"hanchan\")\n",
        "  ) \n",
        "\n",
        "ggsave(filename = \"output_img/ggsave_demo.png\", plot = last_plot(), dpi = 90)"
      ],
      "id": "ded5af88",
      "execution_count": null,
      "outputs": []
    },
    {
      "cell_type": "markdown",
      "metadata": {},
      "source": [
        "# 进阶知识\n",
        "\n",
        "# 实战\n"
      ],
      "id": "2681eb86"
    },
    {
      "cell_type": "code",
      "metadata": {
        "vscode": {
          "languageId": "r"
        }
      },
      "source": [
        "data <- data[, 2:ncol(data)]\n",
        "head(data)"
      ],
      "id": "880adb4e",
      "execution_count": null,
      "outputs": []
    },
    {
      "cell_type": "code",
      "metadata": {
        "vscode": {
          "languageId": "r"
        }
      },
      "source": [
        "corr <- cor(data)\n",
        "head(corr)"
      ],
      "id": "2fc6b0aa",
      "execution_count": null,
      "outputs": []
    },
    {
      "cell_type": "code",
      "metadata": {
        "vscode": {
          "languageId": "r"
        }
      },
      "source": [
        "library(xlsx)\n",
        "df <- read.xlsx(\"ggplot2素材/data.xlsx\", header = TRUE, sheetIndex = 1)\n",
        "head(df)"
      ],
      "id": "803c7435",
      "execution_count": null,
      "outputs": []
    },
    {
      "cell_type": "code",
      "metadata": {
        "vscode": {
          "languageId": "r"
        }
      },
      "source": [
        "library(sf)\n",
        "library(ggplot2)\n",
        "library(xlsx)\n",
        "library(tidyverse)\n",
        "library(viridis)\n",
        "library(ggspatial)"
      ],
      "id": "20b129aa",
      "execution_count": null,
      "outputs": []
    },
    {
      "cell_type": "code",
      "metadata": {
        "vscode": {
          "languageId": "r"
        }
      },
      "source": [
        "# 读取省份边界的shapefile文件\n",
        "province_geo <- read_sf(\"ggplot2绘制地图数据/省份边界数据/中华人民共和国.shp\")"
      ],
      "id": "693cf39a",
      "execution_count": null,
      "outputs": []
    },
    {
      "cell_type": "code",
      "metadata": {
        "vscode": {
          "languageId": "r"
        }
      },
      "source": [
        "class(province_geo)"
      ],
      "id": "1cbfa4d1",
      "execution_count": null,
      "outputs": []
    },
    {
      "cell_type": "code",
      "metadata": {
        "vscode": {
          "languageId": "r"
        }
      },
      "source": [
        "tail(province_geo)"
      ],
      "id": "f6d29174",
      "execution_count": null,
      "outputs": []
    },
    {
      "cell_type": "code",
      "metadata": {
        "vscode": {
          "languageId": "r"
        }
      },
      "source": [
        "data1 <- read.xlsx(\"C:/Users/lenovo/Desktop/整合后数据.xlsx\", sheetIndex = 1, header = TRUE)\n",
        "head(data1)"
      ],
      "id": "b4760167",
      "execution_count": null,
      "outputs": []
    },
    {
      "cell_type": "code",
      "metadata": {
        "vscode": {
          "languageId": "r"
        }
      },
      "source": [
        "values_2015 <- data1[, c(1, 7)]\n",
        "head(values_2015)"
      ],
      "id": "f17e27f0",
      "execution_count": null,
      "outputs": []
    },
    {
      "cell_type": "code",
      "metadata": {
        "vscode": {
          "languageId": "r"
        }
      },
      "source": [
        "countryvalues_2015<- left_join(province_geo, values_2015, by = c(\"name\" = \"province\"))"
      ],
      "id": "98005f59",
      "execution_count": null,
      "outputs": []
    },
    {
      "cell_type": "code",
      "metadata": {
        "vscode": {
          "languageId": "r"
        }
      },
      "source": [
        "tail(countryvalues_2015)"
      ],
      "id": "f9ad65ae",
      "execution_count": null,
      "outputs": []
    },
    {
      "cell_type": "code",
      "metadata": {
        "vscode": {
          "languageId": "r"
        }
      },
      "source": [
        "breaks <- seq(0, 1, by = 0.1)\n",
        "labs <- c(\"极度失调\", \"严重失调\", \"中度失调\", \"轻度失调\", \"濒临失调\", \"勉强协调\", \"初级协调\", \"中级协调\", \"良好协调\", \"优质协调\")\n",
        "countryvalues_2015$cat <- cut(countryvalues_2015$num, \n",
        "                            breaks = breaks,\n",
        "                            labels = labs,\n",
        "                            include.lowest = TRUE\n",
        "                            )\n",
        "countryvalues_2015"
      ],
      "id": "895177ad",
      "execution_count": null,
      "outputs": []
    },
    {
      "cell_type": "code",
      "metadata": {
        "vscode": {
          "languageId": "r"
        }
      },
      "source": [
        "st_crs(countryvalues_2015)"
      ],
      "id": "558778cd",
      "execution_count": null,
      "outputs": []
    },
    {
      "cell_type": "code",
      "metadata": {
        "vscode": {
          "languageId": "r"
        }
      },
      "source": [
        "lake_geo <- read_sf(\"ggplot2绘制地图数据/湖泊河流数据/hyd1_4p.shp\", crs = \"EPSG:4326\")\n",
        "head(lake_geo)"
      ],
      "id": "7e76880c",
      "execution_count": null,
      "outputs": []
    },
    {
      "cell_type": "code",
      "metadata": {
        "vscode": {
          "languageId": "r"
        }
      },
      "source": [
        "# 如何简化代码？\n",
        "test1 <- read_sf(\"ggplot2绘制地图数据/市边界数据/110000.shp\")\n",
        "test2 <- read_sf(\"ggplot2绘制地图数据/市边界数据/120000.shp\")\n",
        "test3 <- read_sf(\"ggplot2绘制地图数据/市边界数据/130000.shp\")\n",
        "test4 <- read_sf(\"ggplot2绘制地图数据/市边界数据/140000.shp\")\n",
        "test5 <- read_sf(\"ggplot2绘制地图数据/市边界数据/140000.shp\")\n",
        "test6 <- read_sf(\"ggplot2绘制地图数据/市边界数据/150000.shp\")\n",
        "test7 <- read_sf(\"ggplot2绘制地图数据/市边界数据/210000.shp\")\n",
        "test8 <- read_sf(\"ggplot2绘制地图数据/市边界数据/220000.shp\")\n",
        "test9 <- read_sf(\"ggplot2绘制地图数据/市边界数据/230000.shp\")\n",
        "test10 <- read_sf(\"ggplot2绘制地图数据/市边界数据/310000.shp\")\n",
        "test11 <- read_sf(\"ggplot2绘制地图数据/市边界数据/320000.shp\")\n",
        "test12 <- read_sf(\"ggplot2绘制地图数据/市边界数据/330000.shp\")\n",
        "test13 <- read_sf(\"ggplot2绘制地图数据/市边界数据/340000.shp\")\n",
        "test14 <- read_sf(\"ggplot2绘制地图数据/市边界数据/350000.shp\")\n",
        "test15 <- read_sf(\"ggplot2绘制地图数据/市边界数据/360000.shp\")\n",
        "test16 <- read_sf(\"ggplot2绘制地图数据/市边界数据/370000.shp\")\n",
        "test17 <- read_sf(\"ggplot2绘制地图数据/市边界数据/410000.shp\")\n",
        "test18 <- read_sf(\"ggplot2绘制地图数据/市边界数据/420000.shp\")\n",
        "test19 <- read_sf(\"ggplot2绘制地图数据/市边界数据/430000.shp\")\n",
        "test20 <- read_sf(\"ggplot2绘制地图数据/市边界数据/440000.shp\")\n",
        "test21 <- read_sf(\"ggplot2绘制地图数据/市边界数据/450000.shp\")\n",
        "test22 <- read_sf(\"ggplot2绘制地图数据/市边界数据/460000.shp\")\n",
        "test23 <- read_sf(\"ggplot2绘制地图数据/市边界数据/500000.shp\")\n",
        "test24 <- read_sf(\"ggplot2绘制地图数据/市边界数据/510000.shp\")\n",
        "test25 <- read_sf(\"ggplot2绘制地图数据/市边界数据/520000.shp\")\n",
        "test26 <- read_sf(\"ggplot2绘制地图数据/市边界数据/530000.shp\")\n",
        "test27 <- read_sf(\"ggplot2绘制地图数据/市边界数据/540000.shp\")\n",
        "test28 <- read_sf(\"ggplot2绘制地图数据/市边界数据/610000.shp\")\n",
        "test29 <- read_sf(\"ggplot2绘制地图数据/市边界数据/620000.shp\")\n",
        "test30 <- read_sf(\"ggplot2绘制地图数据/市边界数据/630000.shp\")\n",
        "test31 <- read_sf(\"ggplot2绘制地图数据/市边界数据/640000.shp\")\n",
        "test32 <- read_sf(\"ggplot2绘制地图数据/市边界数据/650000.shp\")\n",
        "test33 <- read_sf(\"ggplot2绘制地图数据/市边界数据/710000.shp\")\n",
        "test34 <- read_sf(\"ggplot2绘制地图数据/市边界数据/810000.shp\")\n",
        "test35 <- read_sf(\"ggplot2绘制地图数据/市边界数据/820000.shp\")\n",
        "\n",
        "\n",
        "# 台湾省没有相应的二级市，所以除了台湾的相关数据如下，存储在rusult\n",
        "library(openxlsx)\n",
        "result <- rbind(test1, test2, test3, test4, test5, test6, test7, test8, test9, test10, test11, test12, test13, test14, test15, test16, test17, test18, test19, test20, test21,\n",
        "test22, test23, test24, test25, test26, test27, test28, test29, test30, test31, test32, test34, test35)\n",
        "output <- as.data.frame(result)"
      ],
      "id": "8fc22268",
      "execution_count": null,
      "outputs": []
    },
    {
      "cell_type": "code",
      "metadata": {
        "vscode": {
          "languageId": "r"
        }
      },
      "source": [
        "head(output)"
      ],
      "id": "ba2b4064",
      "execution_count": null,
      "outputs": []
    },
    {
      "cell_type": "code",
      "metadata": {
        "vscode": {
          "languageId": "r"
        }
      },
      "source": [
        "head(as.data.frame(test1))"
      ],
      "id": "60398977",
      "execution_count": null,
      "outputs": []
    },
    {
      "cell_type": "code",
      "metadata": {
        "vscode": {
          "languageId": "r"
        }
      },
      "source": [
        "head(as.data.frame(test33))"
      ],
      "id": "b3cb651f",
      "execution_count": null,
      "outputs": []
    },
    {
      "cell_type": "code",
      "metadata": {
        "vscode": {
          "languageId": "r"
        }
      },
      "source": [
        "options(repr.plot.width = 10, repr.plot.height = 10)"
      ],
      "id": "16370528",
      "execution_count": null,
      "outputs": []
    },
    {
      "cell_type": "code",
      "metadata": {
        "vscode": {
          "languageId": "r"
        }
      },
      "source": [
        "ggplot(data = countryvalues_2015) + \n",
        "        geom_sf()"
      ],
      "id": "50b37007",
      "execution_count": null,
      "outputs": []
    },
    {
      "cell_type": "code",
      "metadata": {
        "vscode": {
          "languageId": "r"
        }
      },
      "source": [
        "ggplot(data = countryvalues_2015) + \n",
        "        geom_sf(aes(fill = num),\n",
        "                color = \"gray75\", \n",
        "                linewidth = 1\n",
        "                ) + \n",
        "        geom_sf(data = result,\n",
        "                color = \"white\", \n",
        "                fill = \"transparent\", \n",
        "                linewidth = 0.1) +  \n",
        "        geom_sf(data = lake_geo,\n",
        "                fill = \"#D6F1FF\",\n",
        "                color = \"transparent\") +\n",
        "        annotation_north_arrow(location=\"tr\",\n",
        "                style =north_arrow_nautical(\n",
        "                fill =c(\"grey40\",\"white\"),\n",
        "                line_col =\"grey20\"),\n",
        "                )+ \n",
        "        scale_fill_viridis(option = \"magma\",\n",
        "                breaks = seq(0, 0.5 , by = 0.05),\n",
        "                alpha = 0.7, # 使填充更亮一点\n",
        "                begin = 0.1, \n",
        "                end = 0.9,\n",
        "                guide = guide_legend(\n",
        "                keyheight = unit(5, units = \"mm\"),\n",
        "                title.position = \"top\",\n",
        "                reverse = T)        \n",
        "                ) +\n",
        "        labs(x = NULL, y = NULL, title = \"中国地图\", subtitle = \"2015年耦合协调度分布\", fill = \"D\") +\n",
        "        theme_minimal() +\n",
        "        theme(  plot.background = element_blank(),\n",
        "                panel.background = element_blank(),\n",
        "                panel.border = element_blank(),\n",
        "                plot.title = element_text(size = 40, hjust = 0.5),\n",
        "                plot.subtitle = element_text(size = 25, hjust = 0.5),\n",
        "                axis.text = element_blank(),\n",
        "                axis.title = element_blank(),\n",
        "                panel.grid = element_blank(),\n",
        "                plot.margin = unit(c(1, .5, .2, 0), \"cm\"),\n",
        "                panel.spacing = unit(c(-.1, 0.2, .2, 0.2), \"cm\"),\n",
        "                legend.title = element_text(size = 12),\n",
        "                legend.text = element_text(size = 10)\n",
        "        )"
      ],
      "id": "a69920cc",
      "execution_count": null,
      "outputs": []
    },
    {
      "cell_type": "code",
      "metadata": {
        "vscode": {
          "languageId": "r"
        }
      },
      "source": [
        "library(showtext)\n",
        "showtext_auto()\n",
        "font_add(\"SimSun\", \"C:/Windows/Fonts/SIMSUN.TTC\")   \n",
        "font_families()"
      ],
      "id": "eaa998fa",
      "execution_count": null,
      "outputs": []
    },
    {
      "cell_type": "code",
      "metadata": {
        "vscode": {
          "languageId": "r"
        }
      },
      "source": [
        "ggplot(data = countryvalues_2015) + \n",
        "        geom_sf(aes(fill = cat),\n",
        "                color = \"grey80\", \n",
        "                linewidth = 1\n",
        "                ) + \n",
        "        geom_sf(data = result,\n",
        "                color = \"white\", \n",
        "                fill = \"transparent\", \n",
        "                linewidth = 0.5) +  \n",
        "        geom_sf(data = lake_geo,\n",
        "                fill = \"#D6F1FF\",\n",
        "                color = \"transparent\") +\n",
        "        annotation_north_arrow(location=\"tr\",\n",
        "                style =north_arrow_nautical(\n",
        "                fill =c(\"grey40\",\"white\"),\n",
        "                line_col =\"grey20\")\n",
        "                )+ \n",
        "        scale_fill_viridis_d(option = \"magma\",\n",
        "                alpha = 0.7, # 使填充更亮一点\n",
        "                begin = 0.1, \n",
        "                end = 0.8,\n",
        "                na.value = \"gray30\",\n",
        "                guide = guide_legend(reverse = T),\n",
        "                name = NULL\n",
        "                ) +        \n",
        "        theme_minimal() +\n",
        "        theme(  plot.background = element_blank(),\n",
        "                panel.background = element_blank(),\n",
        "                panel.border = element_blank(),\n",
        "                plot.title = element_text(size = 40, hjust = 0.5),\n",
        "                plot.subtitle = element_text(size = 25, hjust = 0.5),\n",
        "                axis.text = element_blank(),\n",
        "                axis.title = element_blank(),\n",
        "                panel.grid = element_blank(),\n",
        "                plot.margin = margin(l = 0.5, t = 0.5, r = 0.5, b = 0, \"cm\"),\n",
        "                legend.position = c(0.6,0.2),\n",
        "                legend.text = element_text(size =20, family = \"SimSun\"),\n",
        "                legend.margin = margin(0.5, 0.5, 0.5, -5, \"cm\"),\n",
        "        )+\n",
        "        guides(fill = guide_legend(direction = \"horizontal\"))"
      ],
      "id": "66d9e72b",
      "execution_count": null,
      "outputs": []
    },
    {
      "cell_type": "code",
      "metadata": {
        "vscode": {
          "languageId": "r"
        }
      },
      "source": [
        "ggplot(data = countryvalues_2018) + \n",
        "        geom_sf(aes(fill = cat),\n",
        "                color = \"grey80\", \n",
        "                linewidth = 1\n",
        "                ) + \n",
        "        geom_sf(data = result,\n",
        "                color = \"white\", \n",
        "                fill = \"transparent\", \n",
        "                linewidth = 0.5) +  \n",
        "        geom_sf(data = lake_geo,\n",
        "                fill = \"#D6F1FF\",\n",
        "                color = \"transparent\") +\n",
        "        annotation_north_arrow(location=\"tr\",\n",
        "                style =north_arrow_nautical(\n",
        "                fill =c(\"grey40\",\"white\"),\n",
        "                line_col =\"grey20\")\n",
        "                )+ \n",
        "        scale_fill_viridis_d(option = \"magma\",\n",
        "                alpha = 0.7, # 使填充更亮一点\n",
        "                begin = 0.1, \n",
        "                end = 0.8,\n",
        "                na.value = \"gray30\",\n",
        "                guide = guide_legend(reverse = T),\n",
        "                name = NULL\n",
        "                ) +        \n",
        "        theme_minimal() +\n",
        "        theme(  plot.background = element_blank(),\n",
        "                panel.background = element_blank(),\n",
        "                panel.border = element_blank(),\n",
        "                plot.title = element_text(size = 40, hjust = 0.5),\n",
        "                plot.subtitle = element_text(size = 25, hjust = 0.5),\n",
        "                axis.text = element_blank(),\n",
        "                axis.title = element_blank(),\n",
        "                panel.grid = element_blank(),\n",
        "                plot.margin = margin(l = 0.5, t = 0.5, r = 0.5, b = 0, \"cm\"),\n",
        "                legend.position = c(0.6,0.2),\n",
        "                legend.text = element_text(size =20, family = \"SimSun\"),\n",
        "                legend.margin = margin(0.5, 0.5, 0.5, -5, \"cm\"),\n",
        "        )+\n",
        "        guides(fill = guide_legend(direction = \"horizontal\"))"
      ],
      "id": "c90cef94",
      "execution_count": null,
      "outputs": []
    },
    {
      "cell_type": "code",
      "metadata": {
        "vscode": {
          "languageId": "r"
        }
      },
      "source": [
        "ggplot(data = countryvalues_2021) + \n",
        "        geom_sf(aes(fill = cat),\n",
        "                color = \"grey80\", \n",
        "                linewidth = 1\n",
        "                ) + \n",
        "        geom_sf(data = result,\n",
        "                color = \"white\", \n",
        "                fill = \"transparent\", \n",
        "                linewidth = 0.5) +  \n",
        "        geom_sf(data = lake_geo,\n",
        "                fill = \"#D6F1FF\",\n",
        "                color = \"transparent\") +\n",
        "        annotation_north_arrow(location=\"tr\",\n",
        "                style =north_arrow_nautical(\n",
        "                fill =c(\"grey40\",\"white\"),\n",
        "                line_col =\"grey20\")\n",
        "                )+ \n",
        "        scale_fill_viridis_d(option = \"magma\",\n",
        "                alpha = 0.7, # 使填充更亮一点\n",
        "                begin = 0.1, \n",
        "                end = 0.8,\n",
        "                na.value = \"gray30\",\n",
        "                guide = guide_legend(reverse = T),\n",
        "                name = NULL\n",
        "                ) +        \n",
        "        theme_minimal() +\n",
        "        theme(  plot.background = element_blank(),\n",
        "                panel.background = element_blank(),\n",
        "                panel.border = element_blank(),\n",
        "                plot.title = element_text(size = 40, hjust = 0.5),\n",
        "                plot.subtitle = element_text(size = 25, hjust = 0.5),\n",
        "                axis.text = element_blank(),\n",
        "                axis.title = element_blank(),\n",
        "                panel.grid = element_blank(),\n",
        "                plot.margin = margin(l = 0.5, t = 0.5, r = 0.5, b = 0, \"cm\"),\n",
        "                legend.position = c(0.6,0.2),\n",
        "                legend.text = element_text(size =20, family = \"SimSun\"),\n",
        "                legend.margin = margin(0.5, 0.5, 0.5, -5, \"cm\"),\n",
        "        )+\n",
        "        guides(fill = guide_legend(direction = \"horizontal\"))"
      ],
      "id": "6436a15c",
      "execution_count": null,
      "outputs": []
    },
    {
      "cell_type": "code",
      "metadata": {
        "vscode": {
          "languageId": "r"
        }
      },
      "source": [
        "library(sf)\n",
        "library(ggplot2)\n",
        "library(xlsx)\n",
        "library(tidyverse)\n",
        "library(viridis)\n",
        "library(ggspatial)"
      ],
      "id": "907d980f",
      "execution_count": null,
      "outputs": []
    },
    {
      "cell_type": "code",
      "metadata": {
        "vscode": {
          "languageId": "r"
        }
      },
      "source": [
        "data2 <- xlsx::read.xlsx(\"C:/Users/lenovo/Desktop/整合后数据.xlsx\", sheetName = \"2018\", header = TRUE)\n",
        "values_2018 <- data2[, c(1, 7)]\n",
        "countryvalues_2018<- left_join(province_geo, values_2018, by = c(\"name\" = \"province\"))\n",
        "breaks <- seq(0, 1, by = 0.1)\n",
        "labs <- c(\"极度失调\", \"严重失调\", \"中度失调\", \"轻度失调\", \"濒临失调\", \"勉强协调\", \"初级协调\", \"中级协调\", \"良好协调\", \"优质协调\")\n",
        "countryvalues_2018$cat <- cut(countryvalues_2018$num, \n",
        "                            breaks = breaks,\n",
        "                            labels = labs,\n",
        "                            include.lowest = TRUE\n",
        "                            )"
      ],
      "id": "2d0038f8",
      "execution_count": null,
      "outputs": []
    },
    {
      "cell_type": "code",
      "metadata": {
        "vscode": {
          "languageId": "r"
        }
      },
      "source": [
        "head(data2)"
      ],
      "id": "7b552937",
      "execution_count": null,
      "outputs": []
    },
    {
      "cell_type": "code",
      "metadata": {
        "vscode": {
          "languageId": "r"
        }
      },
      "source": [
        "countryvalues_2018"
      ],
      "id": "d7b780ae",
      "execution_count": null,
      "outputs": []
    },
    {
      "cell_type": "code",
      "metadata": {
        "vscode": {
          "languageId": "r"
        }
      },
      "source": [
        "ggplot(data = countryvalues_2018) + \n",
        "        geom_sf(aes(fill = num),\n",
        "                color = \"white\", \n",
        "                linewidth = 1.5\n",
        "                ) + \n",
        "        geom_sf(data = result,\n",
        "                color = \"white\", \n",
        "                fill = \"transparent\", \n",
        "                linewidth = 0.1) +  \n",
        "        geom_sf(data = lake_geo,\n",
        "                fill = \"#D6F1FF\",\n",
        "                color = \"transparent\") +\n",
        "        annotation_north_arrow(location=\"tr\",\n",
        "                style =north_arrow_nautical(\n",
        "                fill =c(\"grey40\",\"white\"),\n",
        "                line_col =\"grey20\"),\n",
        "                )+ \n",
        "        scale_fill_viridis(option = \"magma\",\n",
        "                breaks = seq(0, 0.5 , by = 0.05),\n",
        "                alpha = 0.7, # 使填充更亮一点\n",
        "                begin = 0.1, \n",
        "                end = 0.9,\n",
        "                guide = guide_legend(\n",
        "                keyheight = unit(5, units = \"mm\"),\n",
        "                title.position = \"top\",\n",
        "                reverse = T)        \n",
        "                ) +\n",
        "        labs(x = NULL, y = NULL, title = \"中国地图\", subtitle = \"2018年耦合协调度分布\", fill = \"D\") +\n",
        "        theme_minimal() +\n",
        "        theme(  plot.background = element_blank(),\n",
        "                panel.background = element_blank(),\n",
        "                panel.border = element_blank(),\n",
        "                plot.title = element_text(size = 40, hjust = 0.5),\n",
        "                plot.subtitle = element_text(size = 25, hjust = 0.5),\n",
        "                axis.text = element_blank(),\n",
        "                axis.title = element_blank(),\n",
        "                panel.grid = element_blank(),\n",
        "                plot.margin = unit(c(1, .5, .2, 0), \"cm\"),\n",
        "                panel.spacing = unit(c(-.1, 0.2, .2, 0.2), \"cm\"),\n",
        "                legend.title = element_text(size = 12),\n",
        "                legend.text = element_text(size = 10)\n",
        "        )"
      ],
      "id": "c402f633",
      "execution_count": null,
      "outputs": []
    },
    {
      "cell_type": "code",
      "metadata": {
        "vscode": {
          "languageId": "r"
        }
      },
      "source": [
        "ggplot(data = countryvalues_2018) + \n",
        "        geom_sf(aes(fill = cat),\n",
        "                color = \"gray75\", \n",
        "                linewidth = 1.3\n",
        "                ) + \n",
        "        geom_sf(data = result,\n",
        "                color = \"white\", \n",
        "                fill = \"transparent\", \n",
        "                linewidth = 0.1) +  \n",
        "        geom_sf(data = lake_geo,\n",
        "                fill = \"#D6F1FF\",\n",
        "                color = \"transparent\") +\n",
        "        annotation_north_arrow(location=\"tr\",\n",
        "                style =north_arrow_nautical(\n",
        "                fill =c(\"grey40\",\"white\"),\n",
        "                line_col =\"grey20\"),\n",
        "                )+ \n",
        "        scale_fill_viridis_d(option = \"viridis\",\n",
        "                alpha = 0.7, # 使填充更亮一点\n",
        "                begin = 0.1, \n",
        "                end = 0.8,\n",
        "                na.value = \"gray30\",\n",
        "                guide = guide_legend(\n",
        "                keyheight = unit(5, units = \"mm\"),\n",
        "                title.position = \"top\",\n",
        "                reverse = T)\n",
        "                ) +        \n",
        "        labs(x = NULL, y = NULL, title = \"2018年耦合协调度分布\", fill = \"耦合协调度\") +\n",
        "        theme_minimal() +\n",
        "        theme(  plot.background = element_blank(),\n",
        "                panel.background = element_blank(),\n",
        "                panel.border = element_blank(),\n",
        "                plot.title = element_text(size = 40, hjust = 0.5),\n",
        "                plot.subtitle = element_text(size = 25, hjust = 0.5),\n",
        "                axis.text = element_blank(),\n",
        "                axis.title = element_blank(),\n",
        "                panel.grid = element_blank(),\n",
        "                plot.margin = unit(c(1, .5, .2, 0), \"cm\"),\n",
        "                panel.spacing = unit(c(-.1, 0.2, .2, 0.2), \"cm\"),\n",
        "                legend.title = element_text(size = 18),\n",
        "                legend.text = element_text(size =16),\n",
        "                legend.margin = margin(0.5, 0.5, 0.5, -5, \"cm\")\n",
        "        )"
      ],
      "id": "91227ff2",
      "execution_count": null,
      "outputs": []
    },
    {
      "cell_type": "code",
      "metadata": {
        "vscode": {
          "languageId": "r"
        }
      },
      "source": [
        "data3 <- xlsx::read.xlsx(\"C:/Users/lenovo/Desktop/整合后数据.xlsx\", sheetName = \"2021\", header = TRUE)\n",
        "values_2021 <- data2[, c(1, 7)]\n",
        "countryvalues_2021<- left_join(province_geo, values_2021, by = c(\"name\" = \"province\"))\n",
        "breaks <- seq(0, 1, by = 0.1)\n",
        "labs <- c(\"极度失调\", \"严重失调\", \"中度失调\", \"轻度失调\", \"濒临失调\", \"勉强协调\", \"初级协调\", \"中级协调\", \"良好协调\", \"优质协调\")\n",
        "countryvalues_2021$cat <- cut(countryvalues_2021$num, \n",
        "                            breaks = breaks,\n",
        "                            labels = labs,\n",
        "                            include.lowest = TRUE\n",
        "                            )"
      ],
      "id": "1add6b77",
      "execution_count": null,
      "outputs": []
    },
    {
      "cell_type": "code",
      "metadata": {
        "vscode": {
          "languageId": "r"
        }
      },
      "source": [
        "head(data3)"
      ],
      "id": "3cdabf05",
      "execution_count": null,
      "outputs": []
    },
    {
      "cell_type": "code",
      "metadata": {
        "vscode": {
          "languageId": "r"
        }
      },
      "source": [
        "head(countryvalues_2021)"
      ],
      "id": "a9637efc",
      "execution_count": null,
      "outputs": []
    },
    {
      "cell_type": "code",
      "metadata": {
        "vscode": {
          "languageId": "r"
        }
      },
      "source": [
        "ggplot(data = countryvalues_2021) + \n",
        "        geom_sf(aes(fill = num),\n",
        "                color = \"white\", \n",
        "                linewidth = 1.5\n",
        "                ) + \n",
        "        geom_sf(data = result,\n",
        "                color = \"white\", \n",
        "                fill = \"transparent\", \n",
        "                linewidth = 0.1) +  \n",
        "        geom_sf(data = lake_geo,\n",
        "                fill = \"#D6F1FF\",\n",
        "                color = \"transparent\") +\n",
        "        annotation_north_arrow(location=\"tr\",\n",
        "                style =north_arrow_nautical(\n",
        "                fill =c(\"grey40\",\"white\"),\n",
        "                line_col =\"grey20\"),\n",
        "                )+ \n",
        "        scale_fill_viridis(option = \"magma\",\n",
        "                breaks = seq(0, 0.5 , by = 0.05),\n",
        "                alpha = 0.7, # 使填充更亮一点\n",
        "                begin = 0.1, \n",
        "                end = 0.9,\n",
        "                guide = guide_legend(\n",
        "                keyheight = unit(5, units = \"mm\"),\n",
        "                title.position = \"top\",\n",
        "                reverse = T)        \n",
        "                ) +\n",
        "        labs(x = NULL, y = NULL, title = \"中国地图\", subtitle = \"2021年耦合协调度分布\", fill = \"D\") +\n",
        "        theme_minimal() +\n",
        "        theme(  plot.background = element_blank(),\n",
        "                panel.background = element_blank(),\n",
        "                panel.border = element_blank(),\n",
        "                plot.title = element_text(size = 40, hjust = 0.5),\n",
        "                plot.subtitle = element_text(size = 25, hjust = 0.5),\n",
        "                axis.text = element_blank(),\n",
        "                axis.title = element_blank(),\n",
        "                panel.grid = element_blank(),\n",
        "                plot.margin = unit(c(1, .5, .2, 0), \"cm\"),\n",
        "                panel.spacing = unit(c(-.1, 0.2, .2, 0.2), \"cm\"),\n",
        "                legend.title = element_text(size = 12),\n",
        "                legend.text = element_text(size = 10)\n",
        "        )"
      ],
      "id": "6897a564",
      "execution_count": null,
      "outputs": []
    },
    {
      "cell_type": "code",
      "metadata": {
        "vscode": {
          "languageId": "r"
        }
      },
      "source": [
        "ggplot(data = countryvalues_2021) + \n",
        "        geom_sf(aes(fill = cat),\n",
        "                color = \"gray75\", \n",
        "                linewidth = 1.3\n",
        "                ) + \n",
        "        geom_sf(data = result,\n",
        "                color = \"white\", \n",
        "                fill = \"transparent\", \n",
        "                linewidth = 0.1) +  \n",
        "        geom_sf(data = lake_geo,\n",
        "                fill = \"#D6F1FF\",\n",
        "                color = \"transparent\") +\n",
        "        annotation_north_arrow(location=\"tr\",\n",
        "                style =north_arrow_nautical(\n",
        "                fill =c(\"grey40\",\"white\"),\n",
        "                line_col =\"grey20\"),\n",
        "                )+ \n",
        "        scale_fill_viridis_d(option = \"viridis\",\n",
        "                alpha = 0.7, # 使填充更亮一点\n",
        "                begin = 0.1, \n",
        "                end = 0.8,\n",
        "                na.value = \"gray30\",\n",
        "                guide = guide_legend(\n",
        "                keyheight = unit(5, units = \"mm\"),\n",
        "                title.position = \"top\",\n",
        "                reverse = T)\n",
        "                ) +        \n",
        "        labs(x = NULL, y = NULL, title = \"2021年耦合协调度分布\", fill = \"耦合协调度\") +\n",
        "        theme_minimal() +\n",
        "        theme(  plot.background = element_blank(),\n",
        "                panel.background = element_blank(),\n",
        "                panel.border = element_blank(),\n",
        "                plot.title = element_text(size = 40, hjust = 0.5),\n",
        "                plot.subtitle = element_text(size = 25, hjust = 0.5),\n",
        "                axis.text = element_blank(),\n",
        "                axis.title = element_blank(),\n",
        "                panel.grid = element_blank(),\n",
        "                plot.margin = unit(c(1, .5, .2, 0), \"cm\"),\n",
        "                panel.spacing = unit(c(-.1, 0.2, .2, 0.2), \"cm\"),\n",
        "                legend.title = element_text(size = 18),\n",
        "                legend.text = element_text(size =16),\n",
        "                legend.margin = margin(0.5, 0.5, 0.5, -5, \"cm\")\n",
        "        )"
      ],
      "id": "bfa7dde8",
      "execution_count": null,
      "outputs": []
    },
    {
      "cell_type": "code",
      "metadata": {
        "vscode": {
          "languageId": "r"
        }
      },
      "source": [
        "# 加载必要的库\n",
        "library(ggplot2)\n",
        "\n",
        "# 创建一个示例数据集（带有高程信息）\n",
        "# 这里假设你有一个二维的高程矩阵\n",
        "elevation <- matrix(c(\n",
        "  10, 15, 10, 12, 15,\n",
        "  8,  10, 12,  9,  11,\n",
        "  6,   8,  9,  6,   7,\n",
        "  4,   6,  7,  5,   6,\n",
        "  2,   4,  5,  3,   3\n",
        "), nrow = 5, ncol = 5, byrow = TRUE)\n",
        "\n",
        "# 创建一个包含行列索引和高程值的数据框\n",
        "data <- expand.grid(x = 1:5, y = 1:5)\n",
        "data$elevation <- c(elevation)\n",
        "# 绘制山地阴影\n",
        "ggplot(data, aes(x, y, alpha = elevation)) +\n",
        "  geom_raster() +\n",
        "  scale_fill_gradient(low = \"white\", high = \"blue\") +\n",
        "  theme_minimal()"
      ],
      "id": "0043f372",
      "execution_count": null,
      "outputs": []
    },
    {
      "cell_type": "code",
      "metadata": {
        "vscode": {
          "languageId": "r"
        }
      },
      "source": [
        "  theme_minimal() +\n",
        "  theme(\n",
        "    text = element_text(family = default_font_family,\n",
        "                        color = default_font_color),\n",
        "    # remove all axes\n",
        "    axis.line = element_blank(),\n",
        "    axis.text.x = element_blank(),\n",
        "    axis.text.y = element_blank(),\n",
        "    axis.ticks = element_blank(),\n",
        "    # add a subtle grid\n",
        "    panel.grid.major = element_line(color = \"#dbdbd9\", size = 0.2),\n",
        "    panel.grid.minor = element_blank(),\n",
        "    # background colors\n",
        "    plot.background = element_rect(fill = default_background_color,\n",
        "                                   color = NA),\n",
        "    panel.background = element_rect(fill = default_background_color,\n",
        "                                    color = NA),\n",
        "    legend.background = element_rect(fill = default_background_color,\n",
        "                                     color = NA),\n",
        "    # borders and margins\n",
        "    plot.margin = unit(c(.5, .5, .2, .5), \"cm\"),\n",
        "    panel.border = element_blank(),\n",
        "    panel.spacing = unit(c(-.1, 0.2, .2, 0.2), \"cm\"),\n",
        "    # titles\n",
        "    legend.title = element_text(size = 11),\n",
        "    legend.text = element_text(size = 9, hjust = 0,\n",
        "                               color = default_font_color),\n",
        "    plot.title = element_text(size = 15, hjust = 0.5,\n",
        "                              color = default_font_color),\n",
        "    plot.subtitle = element_text(size = 10, hjust = 0.5,\n",
        "                                 color = default_font_color,\n",
        "                                 margin = margin(b = -0.1,\n",
        "                                                 t = -0.1,\n",
        "                                                 l = 2,\n",
        "                                                 unit = \"cm\"),\n",
        "                                 debug = F),\n",
        "    # captions\n",
        "    plot.caption = element_text(size = 7,\n",
        "                                hjust = .5,\n",
        "                                margin = margin(t = 0.2,\n",
        "                                                b = 0,\n",
        "                                                unit = \"cm\"),\n",
        "                                color = \"#939184\"),\n",
        "    )"
      ],
      "id": "3a768d9a",
      "execution_count": null,
      "outputs": []
    }
  ],
  "metadata": {
    "kernelspec": {
      "name": "ir",
      "language": "R",
      "display_name": "R"
    }
  },
  "nbformat": 4,
  "nbformat_minor": 5
}